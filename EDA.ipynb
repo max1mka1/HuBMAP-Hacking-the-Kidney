{
 "cells": [
  {
   "cell_type": "code",
   "execution_count": 7,
   "metadata": {
    "collapsed": true
   },
   "outputs": [
    {
     "name": "stdout",
     "output_type": "stream",
     "text": [
      "Python        : 3.8.5 (default, Jan 27 2021, 15:41:15) \n",
      "Numpy         : 1.20.1\n",
      "Pandas        : 1.2.3\n",
      "Rasterio      : 1.2.1\n",
      "GDal          : 3.2.1\n",
      "tifffile      : 2021.3.17\n",
      "OpenCV        : 4.5.1\n",
      "PyTorch       : 1.7.1+cu101\n",
      "Torchvision   : 0.8.2+cu101\n",
      "Device        : cuda\n"
     ]
    }
   ],
   "source": [
    "# Import standard libraries\n",
    "import os\n",
    "import sys\n",
    "import json\n",
    "import random\n",
    "import warnings\n",
    "import numpy as np\n",
    "import pandas as pd\n",
    "\n",
    "# Visualization libraries\n",
    "import matplotlib as mpl\n",
    "import matplotlib.pyplot as plt\n",
    "import seaborn as sns\n",
    "\n",
    "# Libraries for working with images\n",
    "import cv2\n",
    "from osgeo import gdal\n",
    "import rasterio\n",
    "import tifffile\n",
    "\n",
    "# Torch libraries\n",
    "import torch\n",
    "import torchvision\n",
    "\n",
    "# Output used libraries versions\n",
    "PYTHON_VERSION = sys.version.split('\\n')[0]\n",
    "print(f\"Python        : {PYTHON_VERSION}\")\n",
    "print(f\"Numpy         : {np.__version__}\")\n",
    "print(f\"Pandas        : {pd.__version__}\")\n",
    "print(f\"Rasterio      : {rasterio.__version__}\")\n",
    "print(f\"GDal          : {gdal.__version__}\")\n",
    "print(f\"tifffile      : {tifffile.__version__}\")\n",
    "print(f\"OpenCV        : {cv2.__version__}\")\n",
    "print(f\"PyTorch       : {torch.__version__}\")\n",
    "print(f\"Torchvision   : {torchvision.__version__}\")\n",
    "\n",
    "# Chech wheather CUDA is available and set up torch device\n",
    "device = torch.device('cuda') if torch.cuda.is_available() else torch.device('cpu')\n",
    "print(f\"Device        : {device}\")"
   ]
  },
  {
   "cell_type": "code",
   "execution_count": 8,
   "outputs": [],
   "source": [
    "# Set seed of random generators\n",
    "SEED = 42\n",
    "random.seed(SEED)       # Python seed\n",
    "np.random.seed(SEED)    # Numpy seed\n",
    "torch.manual_seed(SEED)        # PyTorch seed\n",
    "torch.backends.cudnn.benchmark = False # Set cuDNN to deterministically select an algorithm\n",
    "\n",
    "# Set Seaborn visualizing properties\n",
    "sns.set()\n",
    "sns.set_context(\"paper\", font_scale=1.2)\n",
    "\n",
    "# Set warnings to be ignored\n",
    "warnings.filterwarnings('ignore')"
   ],
   "metadata": {
    "collapsed": false,
    "pycharm": {
     "name": "#%%\n"
    }
   }
  },
  {
   "cell_type": "code",
   "execution_count": 9,
   "outputs": [
    {
     "name": "stdout",
     "output_type": "stream",
     "text": [
      "Light mode palette:\n",
      "Dark mode palette:\n"
     ]
    },
    {
     "data": {
      "text/plain": "<Figure size 648x72 with 1 Axes>",
      "image/png": "[encoded data removed]"
     },
     "metadata": {},
     "output_type": "display_data"
    },
    {
     "data": {
      "text/plain": "<Figure size 432x72 with 1 Axes>",
      "image/png": "[encoded data removed]"
     },
     "metadata": {},
     "output_type": "display_data"
    },
    {
     "data": {
      "text/plain": "<Figure size 648x72 with 1 Axes>",
      "image/png": "[encoded data removed]"
     },
     "metadata": {},
     "output_type": "display_data"
    },
    {
     "data": {
      "text/plain": "<Figure size 432x72 with 1 Axes>",
      "image/png": "[encoded data removed]"
     },
     "metadata": {},
     "output_type": "display_data"
    }
   ],
   "source": [
    "# Set palettes code\n",
    "# DarkMode code is taken from:\n",
    "# https://www.kaggle.com/subinium/dark-mode-visualization-apple-version\n",
    "\n",
    "light_palette = [\n",
    "    (0, 122, 255), # Blue\n",
    "    (255, 149, 0), # Orange\n",
    "    (52, 199, 89), # Green\n",
    "    (255, 59, 48), # Red\n",
    "    (175, 82, 222),# Purple\n",
    "    (255, 45, 85), # Pink\n",
    "    (88, 86, 214), # Indigo\n",
    "    (90, 200, 250),# Teal\n",
    "    (255, 204, 0)  # Yellow\n",
    "]\n",
    "\n",
    "dark_palette = [\n",
    "    (10, 132, 255), # Blue\n",
    "    (255, 159, 10), # Orange\n",
    "    (48, 209, 88),  # Green\n",
    "    (255, 69, 58),  # Red\n",
    "    (191, 90, 242), # Purple\n",
    "    (94, 92, 230),  # Indigo\n",
    "    (255, 55, 95),  # Pink\n",
    "    (100, 210, 255),# Teal\n",
    "    (255, 214, 10)  # Yellow\n",
    "]\n",
    "\n",
    "gray_light_palette = [\n",
    "    (142, 142, 147),# Gray\n",
    "    (174, 174, 178),# Gray (2)\n",
    "    (199, 199, 204),# Gray (3)\n",
    "    (209, 209, 214),# Gray (4)\n",
    "    (229, 229, 234),# Gray (5)\n",
    "    (242, 242, 247),# Gray (6)\n",
    "]\n",
    "\n",
    "gray_dark_palette = [\n",
    "    (142, 142, 147),# Gray\n",
    "    (99, 99, 102),  # Gray (2)\n",
    "    (72, 72, 74),   # Gray (3)\n",
    "    (58, 58, 60),   # Gray (4)\n",
    "    (44, 44, 46),   # Gray (5)\n",
    "    (28, 28, 39),   # Gray (6)\n",
    "]\n",
    "\n",
    "\n",
    "light_palette = np.array(light_palette)/255\n",
    "dark_palette = np.array(dark_palette)/255\n",
    "gray_light_palette = np.array(gray_light_palette)/255\n",
    "gray_dark_palette = np.array(gray_dark_palette)/255\n",
    "\n",
    "print('Light mode palette:')\n",
    "sns.palplot(light_palette)\n",
    "sns.palplot(gray_light_palette)\n",
    "\n",
    "print('Dark mode palette:')\n",
    "sns.palplot(dark_palette)\n",
    "sns.palplot(gray_dark_palette)"
   ],
   "metadata": {
    "collapsed": false,
    "pycharm": {
     "name": "#%%\n"
    }
   }
  },
  {
   "cell_type": "code",
   "execution_count": 11,
   "outputs": [],
   "source": [
    "PATH = os.getcwd()\n",
    "DATA_DIR = os.path.join(PATH, \"hubmap-kidney-segmentation\")\n",
    "TRAIN_CSV_PATH = os.path.join(DATA_DIR, \"train.csv\")"
   ],
   "metadata": {
    "collapsed": false,
    "pycharm": {
     "name": "#%%\n"
    }
   }
  },
  {
   "cell_type": "code",
   "execution_count": 12,
   "outputs": [
    {
     "data": {
      "text/plain": "          id                                           encoding\n0  2f6ecfcdf  296084587 4 296115835 6 296115859 14 296147109...\n1  8242609fa  96909968 56 96941265 60 96972563 64 97003861 6...\n2  aaa6a05cc  30989109 59 31007591 64 31026074 68 31044556 7...\n3  cb2d976f4  78144363 5 78179297 15 78214231 25 78249165 35...\n4  b9a3865fc  61271840 4 61303134 13 61334428 22 61365722 30...",
      "text/html": "<div>\n<style scoped>\n    .dataframe tbody tr th:only-of-type {\n        vertical-align: middle;\n    }\n\n    .dataframe tbody tr th {\n        vertical-align: top;\n    }\n\n    .dataframe thead th {\n        text-align: right;\n    }\n</style>\n<table border=\"1\" class=\"dataframe\">\n  <thead>\n    <tr style=\"text-align: right;\">\n      <th></th>\n      <th>id</th>\n      <th>encoding</th>\n    </tr>\n  </thead>\n  <tbody>\n    <tr>\n      <th>0</th>\n      <td>2f6ecfcdf</td>\n      <td>296084587 4 296115835 6 296115859 14 296147109...</td>\n    </tr>\n    <tr>\n      <th>1</th>\n      <td>8242609fa</td>\n      <td>96909968 56 96941265 60 96972563 64 97003861 6...</td>\n    </tr>\n    <tr>\n      <th>2</th>\n      <td>aaa6a05cc</td>\n      <td>30989109 59 31007591 64 31026074 68 31044556 7...</td>\n    </tr>\n    <tr>\n      <th>3</th>\n      <td>cb2d976f4</td>\n      <td>78144363 5 78179297 15 78214231 25 78249165 35...</td>\n    </tr>\n    <tr>\n      <th>4</th>\n      <td>b9a3865fc</td>\n      <td>61271840 4 61303134 13 61334428 22 61365722 30...</td>\n    </tr>\n  </tbody>\n</table>\n</div>"
     },
     "execution_count": 12,
     "metadata": {},
     "output_type": "execute_result"
    }
   ],
   "source": [
    "train_df = pd.read_csv(TRAIN_CSV_PATH)\n",
    "train_df.head()"
   ],
   "metadata": {
    "collapsed": false,
    "pycharm": {
     "name": "#%%\n"
    }
   }
  },
  {
   "cell_type": "code",
   "execution_count": 9,
   "outputs": [],
   "source": [],
   "metadata": {
    "collapsed": false,
    "pycharm": {
     "name": "#%%"
    }
   }
  }
 ],
 "metadata": {
  "kernelspec": {
   "display_name": "Python 3",
   "language": "python",
   "name": "python3"
  },
  "language_info": {
   "codemirror_mode": {
    "name": "ipython",
    "version": 2
   },
   "file_extension": ".py",
   "mimetype": "text/x-python",
   "name": "python",
   "nbconvert_exporter": "python",
   "pygments_lexer": "ipython2",
   "version": "2.7.6"
  }
 },
 "nbformat": 4,
 "nbformat_minor": 0
}